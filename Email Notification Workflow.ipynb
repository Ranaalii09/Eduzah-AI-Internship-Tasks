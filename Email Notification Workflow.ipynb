{
 "cells": [
  {
   "cell_type": "code",
   "execution_count": 7,
   "id": "16d11c47-eb90-4d03-b9b9-e70844ba7c8f",
   "metadata": {},
   "outputs": [
    {
     "name": "stdout",
     "output_type": "stream",
     "text": [
      " AI analyzed and email sent successfully!\n"
     ]
    }
   ],
   "source": [
    "import smtplib\n",
    "from email.mime.text import MIMEText\n",
    "\n",
    "def analyze_message(message):\n",
    "    message_lower = message.lower()\n",
    "    if any(word in message_lower for word in [\"angry\", \"bad\", \"complain\", \"not working\", \"problem\", \"issue\"]):\n",
    "        return \"Complaint\"\n",
    "    elif any(word in message_lower for word in [\"how\", \"when\", \"where\", \"price\", \"information\", \"help\"]):\n",
    "        return \"Inquiry\"\n",
    "    elif any(word in message_lower for word in [\"love\", \"great\", \"good job\", \"thank\", \"amazing\"]):\n",
    "        return \"Positive Feedback\"\n",
    "    else:\n",
    "        return \"General Message\"\n",
    "\n",
    "form_data = {\n",
    "    \"name\": \"Rana Ali\",\n",
    "    \"email\": \"rana@example.com\",\n",
    "    \"message\": \"I love your English courses! They're amazing!\"\n",
    "}\n",
    "\n",
    "message_type = analyze_message(form_data[\"message\"])\n",
    "\n",
    "formatted_message = f\"\"\"\n",
    " New Form Submission (AI Classified)\n",
    "---------------------------------------\n",
    " Name: {form_data['name']}\n",
    " Email: {form_data['email']}\n",
    " Message: {form_data['message']}\n",
    " AI Detected Type: {message_type}\n",
    "\"\"\"\n",
    "\n",
    "def send_email(content):\n",
    "    sender_email = \"rana3lii09@gmail.com\"\n",
    "    sender_password = \"qsac lghn ejwb bfnt\"  \n",
    "    receiver_email = \"your_email@gmail.com\"\n",
    "\n",
    "    msg = MIMEText(content)\n",
    "    msg['Subject'] = f\" New {message_type} Detected!\"\n",
    "    msg['From'] = sender_email\n",
    "    msg['To'] = receiver_email\n",
    "\n",
    "    try:\n",
    "        with smtplib.SMTP_SSL(\"smtp.gmail.com\", 465) as server:\n",
    "            server.login(sender_email, sender_password)\n",
    "            server.send_message(msg)\n",
    "        print(\" AI analyzed and email sent successfully!\")\n",
    "    except Exception as e:\n",
    "        print(\" Error sending email:\", e)\n",
    "\n",
    "send_email(formatted_message)\n"
   ]
  }
 ],
 "metadata": {
  "kernelspec": {
   "display_name": "Python 3 (ipykernel)",
   "language": "python",
   "name": "python3"
  },
  "language_info": {
   "codemirror_mode": {
    "name": "ipython",
    "version": 3
   },
   "file_extension": ".py",
   "mimetype": "text/x-python",
   "name": "python",
   "nbconvert_exporter": "python",
   "pygments_lexer": "ipython3",
   "version": "3.12.4"
  }
 },
 "nbformat": 4,
 "nbformat_minor": 5
}
