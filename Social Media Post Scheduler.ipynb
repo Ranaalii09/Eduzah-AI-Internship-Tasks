{
 "cells": [
  {
   "cell_type": "code",
   "execution_count": 1,
   "id": "3d6b635e-7b82-486b-b853-421038349513",
   "metadata": {},
   "outputs": [
    {
     "name": "stdout",
     "output_type": "stream",
     "text": [
      "Defaulting to user installation because normal site-packages is not writeable\n",
      "Collecting tweepy\n",
      "  Downloading tweepy-4.16.0-py3-none-any.whl.metadata (3.3 kB)\n",
      "Requirement already satisfied: schedule in c:\\users\\compu market\\appdata\\roaming\\python\\python312\\site-packages (1.2.2)\n",
      "Requirement already satisfied: oauthlib<4,>=3.2.0 in c:\\users\\compu market\\appdata\\roaming\\python\\python312\\site-packages (from tweepy) (3.3.1)\n",
      "Requirement already satisfied: requests<3,>=2.27.0 in c:\\programdata\\anaconda3\\lib\\site-packages (from tweepy) (2.32.2)\n",
      "Requirement already satisfied: requests-oauthlib<3,>=1.2.0 in c:\\users\\compu market\\appdata\\roaming\\python\\python312\\site-packages (from tweepy) (2.0.0)\n",
      "Requirement already satisfied: charset-normalizer<4,>=2 in c:\\programdata\\anaconda3\\lib\\site-packages (from requests<3,>=2.27.0->tweepy) (2.0.4)\n",
      "Requirement already satisfied: idna<4,>=2.5 in c:\\programdata\\anaconda3\\lib\\site-packages (from requests<3,>=2.27.0->tweepy) (3.7)\n",
      "Requirement already satisfied: urllib3<3,>=1.21.1 in c:\\programdata\\anaconda3\\lib\\site-packages (from requests<3,>=2.27.0->tweepy) (2.2.2)\n",
      "Requirement already satisfied: certifi>=2017.4.17 in c:\\programdata\\anaconda3\\lib\\site-packages (from requests<3,>=2.27.0->tweepy) (2024.8.30)\n",
      "Downloading tweepy-4.16.0-py3-none-any.whl (98 kB)\n",
      "   ---------------------------------------- 0.0/98.8 kB ? eta -:--:--\n",
      "   ---- ----------------------------------- 10.2/98.8 kB ? eta -:--:--\n",
      "   ------------ --------------------------- 30.7/98.8 kB 435.7 kB/s eta 0:00:01\n",
      "   ------------------------ --------------- 61.4/98.8 kB 550.5 kB/s eta 0:00:01\n",
      "   ---------------------------------------- 98.8/98.8 kB 632.9 kB/s eta 0:00:00\n",
      "Installing collected packages: tweepy\n",
      "Successfully installed tweepy-4.16.0\n",
      "Note: you may need to restart the kernel to use updated packages.\n"
     ]
    }
   ],
   "source": [
    "pip install tweepy schedule\n"
   ]
  },
  {
   "cell_type": "code",
   "execution_count": null,
   "id": "93601077-14e8-4363-a753-5a379ff2fdea",
   "metadata": {},
   "outputs": [
    {
     "name": "stdout",
     "output_type": "stream",
     "text": [
      " Twitter Post Scheduler is running...\n"
     ]
    }
   ],
   "source": [
    "import schedule\n",
    "import time\n",
    "import tweepy\n",
    "\n",
    "# ========== إعدادات تويتر ==========\n",
    "API_KEY = \"dKAIGtUxSFl5LyqCOfa7Yg3WM\"\n",
    "API_SECRET = \"1HrgxxgH2vQOaOzfkXl2tMtKqTBmSk3OdsW7gT00vMNbHSuSBQ\"\n",
    "ACCESS_TOKEN = \"1978507626120970240-6cjZfbTqJdxt32LtG9rkv3RyUicild\"\n",
    "ACCESS_TOKEN_SECRET = \"rgu4tc5kPLUygnWDLWOdfHTdrgMHkccinDMDmu8ol6PJc\"\n",
    "\n",
    "# الاتصال بتويتر\n",
    "auth = tweepy.OAuth1UserHandler(API_KEY, API_SECRET, ACCESS_TOKEN, ACCESS_TOKEN_SECRET)\n",
    "api = tweepy.API(auth)\n",
    "\n",
    "# ========== دالة النشر ==========\n",
    "def post_to_twitter():\n",
    "    post_text = \"💡 Daily Tip: Keep learning and growing! #AI #Motivation\"\n",
    "    api.update_status(post_text)\n",
    "    print(\" Tweet posted successfully!\")\n",
    "\n",
    "# ========== جدولة النشر ==========\n",
    "schedule.every().day.at(\"10:00\").do(post_to_twitter)  # ينشر كل يوم الساعة 10 صباحًا\n",
    "\n",
    "print(\" Twitter Post Scheduler is running...\")\n",
    "\n",
    "while True:\n",
    "    schedule.run_pending()\n",
    "    time.sleep(60)\n"
   ]
  },
  {
   "cell_type": "code",
   "execution_count": null,
   "id": "9676c612-9c8d-48f8-af32-d31bf768a83b",
   "metadata": {},
   "outputs": [],
   "source": []
  }
 ],
 "metadata": {
  "kernelspec": {
   "display_name": "Python 3 (ipykernel)",
   "language": "python",
   "name": "python3"
  },
  "language_info": {
   "codemirror_mode": {
    "name": "ipython",
    "version": 3
   },
   "file_extension": ".py",
   "mimetype": "text/x-python",
   "name": "python",
   "nbconvert_exporter": "python",
   "pygments_lexer": "ipython3",
   "version": "3.12.4"
  }
 },
 "nbformat": 4,
 "nbformat_minor": 5
}
