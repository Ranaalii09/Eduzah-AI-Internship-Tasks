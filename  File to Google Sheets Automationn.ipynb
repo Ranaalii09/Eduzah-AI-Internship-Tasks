{
 "cells": [
  {
   "cell_type": "code",
   "execution_count": null,
   "id": "b27a4d04-548d-41c2-a037-59d4cac408c2",
   "metadata": {},
   "outputs": [
    {
     "name": "stdout",
     "output_type": "stream",
     "text": [
      " Daily Google Sheets automation is running...\n",
      "It will automatically upload the data every day at 9:00 AM.\n"
     ]
    }
   ],
   "source": [
    "import pandas as pd\n",
    "import gspread\n",
    "from google.oauth2.service_account import Credentials\n",
    "from gspread.exceptions import SpreadsheetNotFound, APIError\n",
    "import schedule\n",
    "import time\n",
    "from datetime import datetime\n",
    "\n",
    "SCOPES = [\"https://www.googleapis.com/auth/spreadsheets\", \"https://www.googleapis.com/auth/drive\"]\n",
    "SERVICE_ACCOUNT_FILE = \"csv-automation-project-475202-9c0b137d3f4a.json\"\n",
    "creds = Credentials.from_service_account_file(SERVICE_ACCOUNT_FILE, scopes=SCOPES)\n",
    "client = gspread.authorize(creds)\n",
    "SHEET_NAME = \"leads\"\n",
    "\n",
    "def upload_leads_to_sheets():\n",
    "    print(\"\\n🚀 Starting automation:\", datetime.now().strftime(\"%Y-%m-%d %H:%M:%S\"))\n",
    "\n",
    "    data = {\n",
    "        \"Name\": [\"Rana Ali\", \"Omar Hassan\"],\n",
    "        \"Email\": [\"rana@example.com\", \"omar@gmail.com\"],\n",
    "        \"Message\": [\"Interested in your course\", \"Please send me more info\"]\n",
    "    }\n",
    "    df = pd.DataFrame(data)\n",
    "    csv_file = \"leads.csv\"\n",
    "    df.to_csv(csv_file, index=False)\n",
    "    print(\"✅ CSV file 'leads.csv' created successfully!\")\n",
    "\n",
    "    try:\n",
    "        spreadsheet = client.open(SHEET_NAME)\n",
    "        print(f\"Found existing Google Sheet: '{SHEET_NAME}'\")\n",
    "    except SpreadsheetNotFound:\n",
    "        try:\n",
    "            print(f\" Sheet '{SHEET_NAME}' not found. Creating new one...\")\n",
    "            spreadsheet = client.create(SHEET_NAME)\n",
    "            user_email = \"rana3lii09@gmail.com\"  \n",
    "            spreadsheet.share(user_email, perm_type='user', role='writer')\n",
    "            print(f\" New sheet created and shared with {user_email}\")\n",
    "        except APIError as e:\n",
    "            print(\" Couldn't create sheet automatically. Check Drive quota or share permissions.\")\n",
    "            return\n",
    "\n",
    "    try:\n",
    "        sheet = spreadsheet.sheet1\n",
    "        data_to_upload = [df.columns.values.tolist()] + df.values.tolist()\n",
    "        sheet.append_rows(data_to_upload)\n",
    "        print(\" CSV uploaded successfully to Google Sheets!\")\n",
    "    except Exception as e:\n",
    "        print(f\" Upload failed: {e}\")\n",
    "\n",
    "schedule.every().day.at(\"09:00\").do(upload_leads_to_sheets)  \n",
    "print(\" Daily Google Sheets automation is running...\")\n",
    "print(\"It will automatically upload the data every day at 9:00 AM.\")\n",
    "\n",
    "while True:\n",
    "    schedule.run_pending()\n",
    "    time.sleep(60)\n"
   ]
  }
 ],
 "metadata": {
  "kernelspec": {
   "display_name": "Python 3 (ipykernel)",
   "language": "python",
   "name": "python3"
  },
  "language_info": {
   "codemirror_mode": {
    "name": "ipython",
    "version": 3
   },
   "file_extension": ".py",
   "mimetype": "text/x-python",
   "name": "python",
   "nbconvert_exporter": "python",
   "pygments_lexer": "ipython3",
   "version": "3.12.4"
  }
 },
 "nbformat": 4,
 "nbformat_minor": 5
}
