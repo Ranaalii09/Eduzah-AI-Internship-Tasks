{
 "cells": [
  {
   "cell_type": "code",
   "execution_count": 1,
   "id": "edddeeb4-5f83-421d-9dbc-9d35886487b8",
   "metadata": {},
   "outputs": [
    {
     "name": "stdout",
     "output_type": "stream",
     "text": [
      "Defaulting to user installation because normal site-packages is not writeable\n",
      "Requirement already satisfied: requests in c:\\programdata\\anaconda3\\lib\\site-packages (2.32.2)\n",
      "Requirement already satisfied: schedule in c:\\users\\compu market\\appdata\\roaming\\python\\python312\\site-packages (1.2.2)\n",
      "Requirement already satisfied: charset-normalizer<4,>=2 in c:\\programdata\\anaconda3\\lib\\site-packages (from requests) (2.0.4)\n",
      "Requirement already satisfied: idna<4,>=2.5 in c:\\programdata\\anaconda3\\lib\\site-packages (from requests) (3.7)\n",
      "Requirement already satisfied: urllib3<3,>=1.21.1 in c:\\programdata\\anaconda3\\lib\\site-packages (from requests) (2.2.2)\n",
      "Requirement already satisfied: certifi>=2017.4.17 in c:\\programdata\\anaconda3\\lib\\site-packages (from requests) (2024.8.30)\n",
      "Note: you may need to restart the kernel to use updated packages.\n"
     ]
    }
   ],
   "source": [
    "pip install requests schedule\n"
   ]
  },
  {
   "cell_type": "code",
   "execution_count": null,
   "id": "dbd2d011-f2c8-4399-b449-22644b842eca",
   "metadata": {},
   "outputs": [
    {
     "name": "stdout",
     "output_type": "stream",
     "text": [
      " Telegram Weather Bot is running...\n"
     ]
    }
   ],
   "source": [
    "import requests\n",
    "import schedule\n",
    "import time\n",
    "\n",
    "CITY = \"Cairo\"\n",
    "API_KEY = \"43694f8384fda10753e4a4a0bf85c8b5\"  \n",
    "URL = f\"https://api.openweathermap.org/data/2.5/weather?q={CITY}&appid={API_KEY}&units=metric\"\n",
    "\n",
    "BOT_TOKEN = \"7099354922:AAGnTwKg2mNY7oz8wRBfeChLm8pcJ5Te7bM\" \n",
    "CHAT_ID =\"1262522579\" \n",
    "TELEGRAM_URL = f\"https://api.telegram.org/bot{BOT_TOKEN}/sendMessage\"\n",
    "\n",
    "def get_weather():\n",
    "    response = requests.get(URL)\n",
    "    data = response.json()\n",
    "\n",
    "    temp = data['main']['temp']\n",
    "    humidity = data['main']['humidity']\n",
    "    desc = data['weather'][0]['description']\n",
    "    wind = data['wind']['speed']\n",
    "\n",
    "    weather_report = (\n",
    "        f\" Good morning, Rana!\\n\\n\"\n",
    "        f\"Today's weather in {CITY}:\\n\"\n",
    "        f\"• Condition: {desc.capitalize()}\\n\"\n",
    "        f\"• Temperature: {temp}°C\\n\"\n",
    "        f\"• Humidity: {humidity}%\\n\"\n",
    "        f\"• Wind Speed: {wind} m/s\\n\\n\"\n",
    "        f\"Have a great day! \"\n",
    "    )\n",
    "    return weather_report\n",
    "def send_to_telegram(message):\n",
    "    payload = {\n",
    "        \"chat_id\": CHAT_ID,\n",
    "        \"text\": message\n",
    "    }\n",
    "    response = requests.post(TELEGRAM_URL, data=payload)\n",
    "    if response.status_code == 200:\n",
    "        print(\" Message sent successfully to Telegram!\")\n",
    "    else:\n",
    "        print(\" Failed to send message:\", response.text)\n",
    "\n",
    "def daily_weather_job():\n",
    "    print(\"📡 Fetching weather data...\")\n",
    "    report = get_weather()\n",
    "    send_to_telegram(report)\n",
    "    print(\"🌦️ Weather update sent successfully!\")\n",
    "\n",
    "schedule.every().day.at(\"07:00\").do(daily_weather_job)  \n",
    "\n",
    "print(\" Telegram Weather Bot is running...\")\n",
    "\n",
    "while True:\n",
    "    schedule.run_pending()\n",
    "    time.sleep(60)"
   ]
  },
  {
   "cell_type": "code",
   "execution_count": null,
   "id": "51904461-f26c-4f33-88ae-25613cd78165",
   "metadata": {},
   "outputs": [],
   "source": []
  }
 ],
 "metadata": {
  "kernelspec": {
   "display_name": "Python 3 (ipykernel)",
   "language": "python",
   "name": "python3"
  },
  "language_info": {
   "codemirror_mode": {
    "name": "ipython",
    "version": 3
   },
   "file_extension": ".py",
   "mimetype": "text/x-python",
   "name": "python",
   "nbconvert_exporter": "python",
   "pygments_lexer": "ipython3",
   "version": "3.12.4"
  }
 },
 "nbformat": 4,
 "nbformat_minor": 5
}
